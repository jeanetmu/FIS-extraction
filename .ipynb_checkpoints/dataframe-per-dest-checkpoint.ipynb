{
 "cells": [
  {
   "cell_type": "markdown",
   "id": "dc67efae",
   "metadata": {},
   "source": [
    "We will in this notebook try to extract all the metadata available on the FIS homepage of homoglations separately for each destination, and cross-reference it with the expected amount of certificates based on the found pdfs."
   ]
  },
  {
   "cell_type": "code",
   "execution_count": 7,
   "id": "15b70290",
   "metadata": {},
   "outputs": [],
   "source": [
    "import os\n",
    "import re"
   ]
  },
  {
   "cell_type": "code",
   "execution_count": 57,
   "id": "543d3d5c",
   "metadata": {},
   "outputs": [
    {
     "data": {
      "text/plain": [
       "{'NOR_Tolga': 8,\n",
       " 'NOR_Mo_i_Rana': 6,\n",
       " 'NOR_Al__Liatoppen': 8,\n",
       " 'NOR_Skaret__Molde': 7,\n",
       " 'NOR_Asen_IL__Rotterudmoen__Nannestad': 5,\n",
       " 'NOR_Bodo': 9,\n",
       " 'NOR_Korlevoll__Odda': 6,\n",
       " 'NOR_Stokke__Vestfold': 5,\n",
       " 'NOR_Henningvola': 6,\n",
       " 'NOR_Sandnes__Sor_Varanger': 4,\n",
       " 'NOR_Hoydalsmo': 4,\n",
       " 'NOR_Rena': 1}"
      ]
     },
     "execution_count": 57,
     "metadata": {},
     "output_type": "execute_result"
    }
   ],
   "source": [
    "base = {}\n",
    "for f in os.scandir(\"NOR-pdfs/\"):\n",
    "    name = re.findall(r'[aA-zZ\\_]+[^(\\_\\d)]', f.name)\n",
    "    if name[0] not in base.keys():\n",
    "        base[name[0]] = 1\n",
    "    else: \n",
    "        base[name[0]] = base.get(name[0]) + 1\n",
    "    \n",
    "base"
   ]
  },
  {
   "cell_type": "markdown",
   "id": "d5e7d84c",
   "metadata": {},
   "source": [
    "These are the amount of certificates we can expect from the different destinations^. We can see that it seems like not all destinations had their pdfs extracted. We will handle this problem at a later time __(Remember!)__\n",
    "        We see that we were able to handle the case with Rena (here 'NOR_Rena') because there was only one certificate to extract the meta-data from. The case will be different for the other destinations, that have more than one course certificate stored on their html-page."
   ]
  },
  {
   "cell_type": "code",
   "execution_count": 31,
   "id": "e913106e",
   "metadata": {},
   "outputs": [
    {
     "name": "stdout",
     "output_type": "stream",
     "text": [
      "Rena.txt\n",
      "Skaret%2C+Molde.txt\n",
      "Bodo.txt\n",
      "Tolga.txt\n",
      "Henningvola.txt\n",
      "Asen+IL%2C+Rotterudmoen%2C+Nannestad.txt\n",
      "Hoydalsmo.txt\n",
      "Sandnes%2C+Sor+Varanger.txt\n",
      "Korlevoll%2C+Odda.txt\n",
      "Stokke%2C+Vestfold.txt\n"
     ]
    }
   ],
   "source": [
    "for f in os.scandir(\"NOR-courses/\"):\n",
    "    for k in base.keys():\n",
    "        if f.name[0:4] == k[0:4]:\n",
    "            print(f.name)"
   ]
  },
  {
   "cell_type": "markdown",
   "id": "ce78b4c0",
   "metadata": {},
   "source": [
    "Here we can see that we have lost, among other potential destinations, \"Mo_i_Rana\" as a html-file (txt-version). We try to find a better way to compare:"
   ]
  },
  {
   "cell_type": "code",
   "execution_count": 32,
   "id": "65615c3d",
   "metadata": {},
   "outputs": [
    {
     "data": {
      "text/plain": [
       "['Rena.txt',\n",
       " 'Skaret%2C+Molde.txt',\n",
       " 'Bodo.txt',\n",
       " 'Tolga.txt',\n",
       " 'Henningvola.txt',\n",
       " 'Asen+IL%2C+Rotterudmoen%2C+Nannestad.txt',\n",
       " 'Hoydalsmo.txt',\n",
       " 'Mo+i+Rana.txt',\n",
       " 'Sandnes%2C+Sor+Varanger.txt',\n",
       " 'Korlevoll%2C+Odda.txt',\n",
       " 'Stokke%2C+Vestfold.txt',\n",
       " 'Al%2C+Liatoppen.txt']"
      ]
     },
     "execution_count": 32,
     "metadata": {},
     "output_type": "execute_result"
    }
   ],
   "source": [
    "found_files = []\n",
    "for f in os.scandir(\"NOR-courses/\"):\n",
    "    for k in base.keys():\n",
    "        name = f.name.replace('+','_').replace('%2C','_')\n",
    "        if name.strip('.txt') == k:\n",
    "            found_files.append(f.name)\n",
    "found_files"
   ]
  },
  {
   "cell_type": "markdown",
   "id": "3d4e09ff",
   "metadata": {},
   "source": [
    "We can then check if the length of the found-files list matches the found \"bases\" in the base dict:"
   ]
  },
  {
   "cell_type": "code",
   "execution_count": 34,
   "id": "32574ea3",
   "metadata": {},
   "outputs": [
    {
     "data": {
      "text/plain": [
       "True"
      ]
     },
     "execution_count": 34,
     "metadata": {},
     "output_type": "execute_result"
    }
   ],
   "source": [
    "len(base) == len(found_files)"
   ]
  },
  {
   "cell_type": "markdown",
   "id": "5cb947ae",
   "metadata": {},
   "source": [
    "Good, then we can continue the search for the meta-data on each of the found files."
   ]
  },
  {
   "cell_type": "code",
   "execution_count": 45,
   "id": "26bbdc05",
   "metadata": {},
   "outputs": [],
   "source": [
    "def search_site(lst):\n",
    "    alld = []\n",
    "\n",
    "    for f in found_files:\n",
    "        file = open(\"NOR-courses/\"+f)\n",
    "\n",
    "        pattern = r'(?<=\\>).*(?=\\<)' \n",
    "\n",
    "        results = re.findall(pattern,file.read())\n",
    "        data = []\n",
    "\n",
    "        for r in results:\n",
    "            if len(r)>0 and len(r)<50 and r.strip(\" \") != \"\":                \n",
    "                data.append(r)\n",
    "        alld.append([f, data])\n",
    "    \n",
    "    return alld\n"
   ]
  },
  {
   "cell_type": "markdown",
   "id": "932cd134",
   "metadata": {},
   "source": [
    "We can see that we have been successfull in running re.findall on the relevant sites by checking that we have available all filenames in findings:"
   ]
  },
  {
   "cell_type": "code",
   "execution_count": 48,
   "id": "5c64fdb8",
   "metadata": {},
   "outputs": [
    {
     "name": "stdout",
     "output_type": "stream",
     "text": [
      "Rena.txt\n",
      "Skaret%2C+Molde.txt\n",
      "Bodo.txt\n",
      "Tolga.txt\n",
      "Henningvola.txt\n",
      "Asen+IL%2C+Rotterudmoen%2C+Nannestad.txt\n",
      "Hoydalsmo.txt\n",
      "Mo+i+Rana.txt\n",
      "Sandnes%2C+Sor+Varanger.txt\n",
      "Korlevoll%2C+Odda.txt\n",
      "Stokke%2C+Vestfold.txt\n",
      "Al%2C+Liatoppen.txt\n"
     ]
    }
   ],
   "source": [
    "findings = search_site(found_files)\n",
    "for e in findings:\n",
    "    print(e[0])"
   ]
  },
  {
   "cell_type": "markdown",
   "id": "5d6319be",
   "metadata": {},
   "source": [
    "The next step will then be to see if we are able to extract all metadata for each of the certificates available. We can try to make a generalized function and call it on the destination with the most listed certificates. In this case: __Bodo__ "
   ]
  },
  {
   "cell_type": "code",
   "execution_count": 58,
   "id": "3bed6580",
   "metadata": {},
   "outputs": [
    {
     "data": {
      "text/plain": [
       "['Bodo.txt',\n",
       " ['Homologations',\n",
       "  'Homologations',\n",
       "  'Filter',\n",
       "  'Discipline',\n",
       "  'All',\n",
       "  'Cross-Country',\n",
       "  'Ski Jumping',\n",
       "  'Alpine Skiing',\n",
       "  'Snowboard',\n",
       "  'Speed Skiing',\n",
       "  'Homologation number',\n",
       "  'Place',\n",
       "  'Nation',\n",
       "  'Level',\n",
       "  'All',\n",
       "  'WC',\n",
       "  'COC',\n",
       "  'Event',\n",
       "  'All',\n",
       "  'Downhill',\n",
       "  'Freeski Slopestyle',\n",
       "  'Giant Slalom',\n",
       "  'Indoor',\n",
       "  'Parallel',\n",
       "  'Parallel',\n",
       "  'Parallel Giant Slalom',\n",
       "  'Parallel Slalom',\n",
       "  'Slalom',\n",
       "  'Snowboard Cross',\n",
       "  'Speed Skiing',\n",
       "  'Super G',\n",
       "  'Category',\n",
       "  'All',\n",
       "  'A',\n",
       "  'B',\n",
       "  'C',\n",
       "  'D',\n",
       "  'E',\n",
       "  'Gender',\n",
       "  'All',\n",
       "  'Women',\n",
       "  'Men',\n",
       "  'search',\n",
       "  'Bodo',\n",
       "  'Homologation#',\n",
       "  'Homologation #',\n",
       "  'Course',\n",
       "  'Course',\n",
       "  'Course data',\n",
       "  'Level',\n",
       "  'Length',\n",
       "  'Valid until',\n",
       "  'Inspector',\n",
       "  'Certifcate',\n",
       "  'Cert.',\n",
       "  '<div class=\"clip\">20/51.01/1.2</div>',\n",
       "  '<div class=\"clip\">Bestemorenga 1.2km sprint</div>',\n",
       "  '20/51.01/1.2',\n",
       "  'Bestemorenga 1.2km sprint',\n",
       "  'Level',\n",
       "  'COC',\n",
       "  'Length',\n",
       "  '1248',\n",
       "  'Valid until',\n",
       "  '30.06.2025',\n",
       "  'Inspector',\n",
       "  'BJÖRKESTÖL, Hermod (NOR)',\n",
       "  '<div class=\"clip\">20/51.02/1.7</div>',\n",
       "  '<div class=\"clip\">Bestemorenga 1.7km sprint</div>',\n",
       "  '20/51.02/1.7',\n",
       "  'Bestemorenga 1.7km sprint',\n",
       "  'Level',\n",
       "  'COC',\n",
       "  'Length',\n",
       "  '1729',\n",
       "  'Valid until',\n",
       "  '30.06.2025',\n",
       "  'Inspector',\n",
       "  'BJÖRKESTÖL, Hermod (NOR)',\n",
       "  '<div class=\"clip\">20/51.04/2.5</div>',\n",
       "  '<div class=\"clip\">Bestemorenga 2.5 km North</div>',\n",
       "  '20/51.04/2.5',\n",
       "  'Bestemorenga 2.5 km North',\n",
       "  'Level',\n",
       "  'COC',\n",
       "  'Length',\n",
       "  '2609',\n",
       "  'Valid until',\n",
       "  '30.06.2025',\n",
       "  'Inspector',\n",
       "  'BJÖRKESTÖL, Hermod (NOR)',\n",
       "  '<div class=\"clip\">20/51.03/2.5</div>',\n",
       "  '20/51.03/2.5',\n",
       "  'Bestemorenga 2.5 km North - light',\n",
       "  'Level',\n",
       "  'COC',\n",
       "  'Length',\n",
       "  '2656',\n",
       "  'Valid until',\n",
       "  '30.06.2025',\n",
       "  'Inspector',\n",
       "  'BJÖRKESTÖL, Hermod (NOR)',\n",
       "  '<div class=\"clip\">20/51.06/2.5</div>',\n",
       "  '<div class=\"clip\">Bestemorenga 2.5 km South</div>',\n",
       "  '20/51.06/2.5',\n",
       "  'Bestemorenga 2.5 km South',\n",
       "  'Level',\n",
       "  'COC',\n",
       "  'Length',\n",
       "  '2501',\n",
       "  'Valid until',\n",
       "  '30.06.2025',\n",
       "  'Inspector',\n",
       "  'BJÖRKESTÖL, Hermod (NOR)',\n",
       "  '<div class=\"clip\">20/51.05/2.5</div>',\n",
       "  '20/51.05/2.5',\n",
       "  'Bestemorenga 2.5 km South - light',\n",
       "  'Level',\n",
       "  'COC',\n",
       "  'Length',\n",
       "  '2640',\n",
       "  'Valid until',\n",
       "  '30.06.2025',\n",
       "  'Inspector',\n",
       "  'BJÖRKESTÖL, Hermod (NOR)',\n",
       "  '<div class=\"clip\">20/51.07/3.75</div>',\n",
       "  '20/51.07/3.75',\n",
       "  'Bestemorenga 3.75 km North',\n",
       "  'Level',\n",
       "  'COC',\n",
       "  'Length',\n",
       "  '3723',\n",
       "  'Valid until',\n",
       "  '30.06.2025',\n",
       "  'Inspector',\n",
       "  'BJÖRKESTÖL, Hermod (NOR)',\n",
       "  '<div class=\"clip\">20/51.08/3.75</div>',\n",
       "  '20/51.08/3.75',\n",
       "  'Bestemorenga 3.75 km South',\n",
       "  'Level',\n",
       "  'COC',\n",
       "  'Length',\n",
       "  '3750',\n",
       "  'Valid until',\n",
       "  '30.06.2025',\n",
       "  'Inspector',\n",
       "  'BJÖRKESTÖL, Hermod (NOR)',\n",
       "  '<div class=\"clip\">20/51.09/5.0</div>',\n",
       "  '<div class=\"clip\">Bestemorenga 5 km</div>',\n",
       "  '20/51.09/5.0',\n",
       "  'Bestemorenga 5 km',\n",
       "  'Level',\n",
       "  'COC',\n",
       "  'Length',\n",
       "  '5210',\n",
       "  'Valid until',\n",
       "  '30.06.2025',\n",
       "  'Inspector',\n",
       "  'BJÖRKESTÖL, Hermod (NOR)']]"
      ]
     },
     "execution_count": 58,
     "metadata": {},
     "output_type": "execute_result"
    }
   ],
   "source": [
    "findings[2] #this is Bodo."
   ]
  },
  {
   "cell_type": "markdown",
   "id": "a7b4e0f9",
   "metadata": {},
   "source": [
    "Let's try to reuse some of the code we already have available:"
   ]
  },
  {
   "cell_type": "code",
   "execution_count": null,
   "id": "7e4b9cdb",
   "metadata": {},
   "outputs": [],
   "source": []
  }
 ],
 "metadata": {
  "kernelspec": {
   "display_name": "Python 3",
   "language": "python",
   "name": "python3"
  },
  "language_info": {
   "codemirror_mode": {
    "name": "ipython",
    "version": 3
   },
   "file_extension": ".py",
   "mimetype": "text/x-python",
   "name": "python",
   "nbconvert_exporter": "python",
   "pygments_lexer": "ipython3",
   "version": "3.6.8"
  }
 },
 "nbformat": 4,
 "nbformat_minor": 5
}
